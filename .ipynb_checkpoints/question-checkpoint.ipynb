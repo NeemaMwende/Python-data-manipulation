{
 "cells": [
  {
   "cell_type": "markdown",
   "id": "526e3d27",
   "metadata": {},
   "source": [
    "#📄 Question: Data Analysis with Pandas and Matplotlib\n",
    "##You have been provided with a dataset titanic.csv that contains information about passengers aboard the ##Titanic. The dataset includes the following columns:\n",
    "##PassengerId, Survived, Pclass, Name, Sex, Age, SibSp, Parch, Ticket, Fare, Cabin, Embarked\n",
    "#Task:\n",
    "###Perform an exploratory data analysis (EDA) to answer the following:\n",
    "###What percentage of passengers survived?\n",
    "###How does survival rate vary by gender?\n",
    "###What was the average age of survivors vs. non-survivors?\n",
    "###Plot the number of passengers by class (Pclass).\n",
    "###Visualize the age distribution of the passengers.\n",
    "##Use Pandas for data analysis and Matplotlib or Seaborn for visualization. Provide clean and readable code ##with comments explaining each step."
   ]
  }
 ],
 "metadata": {
  "language_info": {
   "name": "python"
  }
 },
 "nbformat": 4,
 "nbformat_minor": 5
}
